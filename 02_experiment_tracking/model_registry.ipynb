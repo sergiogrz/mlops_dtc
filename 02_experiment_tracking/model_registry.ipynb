{
 "cells": [
  {
   "cell_type": "markdown",
   "id": "fc601289",
   "metadata": {},
   "source": [
    "# MLflow's Model Registry"
   ]
  },
  {
   "cell_type": "code",
   "execution_count": 1,
   "id": "ce1bb05e",
   "metadata": {},
   "outputs": [],
   "source": [
    "# from mlflow.tracking import MlflowClient\n",
    "from mlflow import MlflowClient\n",
    "\n",
    "MLFLOW_TRACKING_URI = \"sqlite:///mlflow.db\""
   ]
  },
  {
   "cell_type": "markdown",
   "id": "799000ad",
   "metadata": {},
   "source": [
    "## Interacting with the MLflow tracking server\n",
    "\n",
    "The `MlflowClient` object allows us to interact with:\n",
    "* an MLflow Tracking Server that creates and manages experiments and runs.\n",
    "* an MLflow Registry Server that creates and manages registered models and model versions.\n",
    "\n",
    "To instantiate it we need to pass a tracking URI and/or a registry URI."
   ]
  },
  {
   "cell_type": "code",
   "execution_count": 2,
   "id": "8829e4b4",
   "metadata": {},
   "outputs": [],
   "source": [
    "client = MlflowClient(tracking_uri=MLFLOW_TRACKING_URI)"
   ]
  },
  {
   "cell_type": "markdown",
   "id": "c6acbdde",
   "metadata": {},
   "source": [
    "Now that we've instantiated the client object, we can access the tracking server data, such as our experiments."
   ]
  },
  {
   "cell_type": "code",
   "execution_count": 4,
   "id": "105ee1ef",
   "metadata": {},
   "outputs": [
    {
     "data": {
      "text/plain": [
       "[<Experiment: artifact_location='/home/sgrodriguez/Formación/mlops_dtc/02_experiment_tracking/mlruns/1', creation_time=1684794410751, experiment_id='1', last_update_time=1684794410751, lifecycle_stage='active', name='nyc_taxi_experiment', tags={}>,\n",
       " <Experiment: artifact_location='mlflow-artifacts:/0', creation_time=1684792727462, experiment_id='0', last_update_time=1684792727462, lifecycle_stage='active', name='Default', tags={}>]"
      ]
     },
     "execution_count": 4,
     "metadata": {},
     "output_type": "execute_result"
    }
   ],
   "source": [
    "client.search_experiments()"
   ]
  },
  {
   "cell_type": "markdown",
   "id": "917018de",
   "metadata": {},
   "source": [
    "We can also create new experiments (once it's created, it can be found in the MLflow UI)."
   ]
  },
  {
   "cell_type": "code",
   "execution_count": 7,
   "id": "b9833282",
   "metadata": {},
   "outputs": [
    {
     "data": {
      "text/plain": [
       "'3'"
      ]
     },
     "execution_count": 7,
     "metadata": {},
     "output_type": "execute_result"
    }
   ],
   "source": [
    "client.create_experiment(name=\"some_new_experiment\")"
   ]
  },
  {
   "cell_type": "markdown",
   "id": "5fd1daf8",
   "metadata": {},
   "source": [
    "Let's check the latest versions for the experiment with id `1`."
   ]
  },
  {
   "cell_type": "code",
   "execution_count": 8,
   "id": "18cf96bb",
   "metadata": {},
   "outputs": [
    {
     "data": {
      "text/plain": [
       "[<Run: data=<RunData: metrics={'rmse': 6.137911990367575}, params={'learning_rate': '0.1126860623846719',\n",
       "  'max_depth': '11',\n",
       "  'min_child_weight': '7.128461099684721',\n",
       "  'objective': 'reg:linear',\n",
       "  'reg_alpha': '0.04429046957254972',\n",
       "  'reg_lambda': '0.09902356874800584',\n",
       "  'seed': '42'}, tags={'mlflow.log-model.history': '[{\"run_id\": \"2dba47c1349d4939af149471c6129149\", '\n",
       "                              '\"artifact_path\": \"models_mlflow\", '\n",
       "                              '\"utc_time_created\": \"2023-05-27 '\n",
       "                              '10:03:01.510865\", \"flavors\": {\"python_function\": '\n",
       "                              '{\"loader_module\": \"mlflow.xgboost\", '\n",
       "                              '\"python_version\": \"3.9.16\", \"data\": \"model.xgb\", '\n",
       "                              '\"env\": {\"conda\": \"conda.yaml\", \"virtualenv\": '\n",
       "                              '\"python_env.yaml\"}}, \"xgboost\": {\"xgb_version\": '\n",
       "                              '\"1.7.5\", \"data\": \"model.xgb\", \"model_class\": '\n",
       "                              '\"xgboost.core.Booster\", \"model_format\": \"xgb\", '\n",
       "                              '\"code\": null}}, \"model_uuid\": '\n",
       "                              '\"e7903d8682e24e0fbfc64e7d55ab5f80\", '\n",
       "                              '\"mlflow_version\": \"2.3.2\"}]',\n",
       "  'mlflow.runName': 'unique-calf-797',\n",
       "  'mlflow.source.name': '/home/sgrodriguez/miniconda3/envs/mlops_dtc/lib/python3.9/site-packages/ipykernel_launcher.py',\n",
       "  'mlflow.source.type': 'LOCAL',\n",
       "  'mlflow.user': 'sgrodriguez'}>, info=<RunInfo: artifact_uri='/home/sgrodriguez/Formación/mlops_dtc/02_experiment_tracking/mlruns/1/2dba47c1349d4939af149471c6129149/artifacts', end_time=1685181782785, experiment_id='1', lifecycle_stage='active', run_id='2dba47c1349d4939af149471c6129149', run_name='unique-calf-797', run_uuid='2dba47c1349d4939af149471c6129149', start_time=1685181769865, status='FINISHED', user_id='sgrodriguez'>>,\n",
       " <Run: data=<RunData: metrics={'rmse': 6.137911990367575}, params={'learning_rate': '0.1126860623846719',\n",
       "  'max_depth': '11',\n",
       "  'min_child_weight': '7.128461099684721',\n",
       "  'objective': 'reg:linear',\n",
       "  'reg_alpha': '0.04429046957254972',\n",
       "  'reg_lambda': '0.09902356874800584',\n",
       "  'seed': '42'}, tags={'mlflow.runName': 'capable-wolf-385',\n",
       "  'mlflow.source.name': '/home/sgrodriguez/miniconda3/envs/mlops_dtc/lib/python3.9/site-packages/ipykernel_launcher.py',\n",
       "  'mlflow.source.type': 'LOCAL',\n",
       "  'mlflow.user': 'sgrodriguez',\n",
       "  'model': 'xgboost'}>, info=<RunInfo: artifact_uri='/home/sgrodriguez/Formación/mlops_dtc/02_experiment_tracking/mlruns/1/47d279fdf909439b8e1199f394ecab96/artifacts', end_time=1684971092429, experiment_id='1', lifecycle_stage='active', run_id='47d279fdf909439b8e1199f394ecab96', run_name='capable-wolf-385', run_uuid='47d279fdf909439b8e1199f394ecab96', start_time=1684971083062, status='FINISHED', user_id='sgrodriguez'>>,\n",
       " <Run: data=<RunData: metrics={'rmse': 6.138583609429911}, params={'learning_rate': '0.06893158534228429',\n",
       "  'max_depth': '8',\n",
       "  'min_child_weight': '0.7846956657420728',\n",
       "  'objective': 'reg:linear',\n",
       "  'reg_alpha': '0.10164640363220279',\n",
       "  'reg_lambda': '0.05796515147490246',\n",
       "  'seed': '42'}, tags={'mlflow.runName': 'chill-pig-135',\n",
       "  'mlflow.source.name': '/home/sgrodriguez/miniconda3/envs/mlops_dtc/lib/python3.9/site-packages/ipykernel_launcher.py',\n",
       "  'mlflow.source.type': 'LOCAL',\n",
       "  'mlflow.user': 'sgrodriguez',\n",
       "  'model': 'xgboost'}>, info=<RunInfo: artifact_uri='/home/sgrodriguez/Formación/mlops_dtc/02_experiment_tracking/mlruns/1/16026d914a4541cb8a0ec4a314ffaee9/artifacts', end_time=1684971461759, experiment_id='1', lifecycle_stage='active', run_id='16026d914a4541cb8a0ec4a314ffaee9', run_name='chill-pig-135', run_uuid='16026d914a4541cb8a0ec4a314ffaee9', start_time=1684971440203, status='FINISHED', user_id='sgrodriguez'>>,\n",
       " <Run: data=<RunData: metrics={'rmse': 6.141867942110974}, params={'learning_rate': '0.0702277337793718',\n",
       "  'max_depth': '9',\n",
       "  'min_child_weight': '0.8796406560275002',\n",
       "  'objective': 'reg:linear',\n",
       "  'reg_alpha': '0.09631405849344772',\n",
       "  'reg_lambda': '0.06120254202710041',\n",
       "  'seed': '42'}, tags={'mlflow.runName': 'whimsical-kite-668',\n",
       "  'mlflow.source.name': '/home/sgrodriguez/miniconda3/envs/mlops_dtc/lib/python3.9/site-packages/ipykernel_launcher.py',\n",
       "  'mlflow.source.type': 'LOCAL',\n",
       "  'mlflow.user': 'sgrodriguez',\n",
       "  'model': 'xgboost'}>, info=<RunInfo: artifact_uri='/home/sgrodriguez/Formación/mlops_dtc/02_experiment_tracking/mlruns/1/ed79f054309642198793072a8cf4184f/artifacts', end_time=1684971440186, experiment_id='1', lifecycle_stage='active', run_id='ed79f054309642198793072a8cf4184f', run_name='whimsical-kite-668', run_uuid='ed79f054309642198793072a8cf4184f', start_time=1684971418739, status='FINISHED', user_id='sgrodriguez'>>,\n",
       " <Run: data=<RunData: metrics={'rmse': 6.143076633701753}, params={'learning_rate': '0.23808498283775192',\n",
       "  'max_depth': '8',\n",
       "  'min_child_weight': '7.117741911368295',\n",
       "  'objective': 'reg:linear',\n",
       "  'reg_alpha': '0.08670430284138893',\n",
       "  'reg_lambda': '0.12556211772662437',\n",
       "  'seed': '42'}, tags={'mlflow.runName': 'rebellious-wasp-176',\n",
       "  'mlflow.source.name': '/home/sgrodriguez/miniconda3/envs/mlops_dtc/lib/python3.9/site-packages/ipykernel_launcher.py',\n",
       "  'mlflow.source.type': 'LOCAL',\n",
       "  'mlflow.user': 'sgrodriguez',\n",
       "  'model': 'xgboost'}>, info=<RunInfo: artifact_uri='/home/sgrodriguez/Formación/mlops_dtc/02_experiment_tracking/mlruns/1/3d12ed80ba3c42db9fb623c56dd4abfe/artifacts', end_time=1684971516717, experiment_id='1', lifecycle_stage='active', run_id='3d12ed80ba3c42db9fb623c56dd4abfe', run_name='rebellious-wasp-176', run_uuid='3d12ed80ba3c42db9fb623c56dd4abfe', start_time=1684971504453, status='FINISHED', user_id='sgrodriguez'>>]"
      ]
     },
     "execution_count": 8,
     "metadata": {},
     "output_type": "execute_result"
    }
   ],
   "source": [
    "from mlflow.entities import ViewType\n",
    "\n",
    "runs = client.search_runs(\n",
    "    experiment_ids='1',\n",
    "    filter_string=\"metrics.rmse < 7\",\n",
    "    run_view_type=ViewType.ACTIVE_ONLY,\n",
    "    max_results=5,\n",
    "    order_by=[\"metrics.rmse ASC\"]\n",
    ")\n",
    "\n",
    "runs"
   ]
  },
  {
   "cell_type": "code",
   "execution_count": 9,
   "id": "f640aa7f",
   "metadata": {},
   "outputs": [
    {
     "name": "stdout",
     "output_type": "stream",
     "text": [
      "run id: 2dba47c1349d4939af149471c6129149, rmse: 6.1379\n",
      "run id: 47d279fdf909439b8e1199f394ecab96, rmse: 6.1379\n",
      "run id: 16026d914a4541cb8a0ec4a314ffaee9, rmse: 6.1386\n",
      "run id: ed79f054309642198793072a8cf4184f, rmse: 6.1419\n",
      "run id: 3d12ed80ba3c42db9fb623c56dd4abfe, rmse: 6.1431\n"
     ]
    }
   ],
   "source": [
    "for run in runs:\n",
    "    print(f\"run id: {run.info.run_id}, rmse: {run.data.metrics['rmse']:.4f}\")"
   ]
  },
  {
   "cell_type": "markdown",
   "id": "e76addd9",
   "metadata": {},
   "source": [
    "## Interacting with the Model Registry\n",
    "\n",
    "In this section We will use the `MlflowClient` instance to:\n",
    "1. Register a new version for the experiment `nyc_taxi_regressor`.\n",
    "2. Retrieve the latests versions of the model `nyc_taxi_regressor` and check that a new version `4` was created.\n",
    "3. Transition the version `4` to \"Staging\" and adding annotations to it."
   ]
  },
  {
   "cell_type": "code",
   "execution_count": 10,
   "id": "d283ea7f",
   "metadata": {},
   "outputs": [],
   "source": [
    "import mlflow\n",
    "\n",
    "mlflow.set_tracking_uri(MLFLOW_TRACKING_URI)"
   ]
  },
  {
   "cell_type": "markdown",
   "id": "8e508140",
   "metadata": {},
   "source": [
    "We can programatically promote a model to the registry. We don't actually need the `client` object to do this."
   ]
  },
  {
   "cell_type": "code",
   "execution_count": 11,
   "id": "a56e29e5",
   "metadata": {},
   "outputs": [
    {
     "name": "stderr",
     "output_type": "stream",
     "text": [
      "Registered model 'nyc_taxi_regressor' already exists. Creating a new version of this model...\n",
      "2023/05/27 19:45:27 INFO mlflow.tracking._model_registry.client: Waiting up to 300 seconds for model version to finish creation. Model name: nyc_taxi_regressor, version 4\n",
      "Created version '4' of model 'nyc_taxi_regressor'.\n"
     ]
    },
    {
     "data": {
      "text/plain": [
       "<ModelVersion: aliases=[], creation_timestamp=1685209527883, current_stage='None', description=None, last_updated_timestamp=1685209527883, name='nyc_taxi_regressor', run_id='ed79f054309642198793072a8cf4184f', run_link=None, source='/home/sgrodriguez/Formación/mlops_dtc/02_experiment_tracking/mlruns/1/ed79f054309642198793072a8cf4184f/artifacts/model', status='READY', status_message=None, tags={}, user_id=None, version=4>"
      ]
     },
     "execution_count": 11,
     "metadata": {},
     "output_type": "execute_result"
    }
   ],
   "source": [
    "run_id = \"ed79f054309642198793072a8cf4184f\"\n",
    "model_uri = f\"runs:/{run_id}/model\"\n",
    "\n",
    "mlflow.register_model(model_uri=model_uri, name=\"nyc_taxi_regressor\")"
   ]
  },
  {
   "cell_type": "code",
   "execution_count": 12,
   "id": "9a76c7af",
   "metadata": {},
   "outputs": [
    {
     "data": {
      "text/plain": [
       "[<RegisteredModel: aliases={}, creation_timestamp=1685183025573, description='NYC Taxi predictor for trip duration.', last_updated_timestamp=1685209527883, latest_versions=[<ModelVersion: aliases=[], creation_timestamp=1685183089749, current_stage='Staging', description='', last_updated_timestamp=1685184477587, name='nyc_taxi_regressor', run_id='2dba47c1349d4939af149471c6129149', run_link='', source='/home/sgrodriguez/Formación/mlops_dtc/02_experiment_tracking/mlruns/1/2dba47c1349d4939af149471c6129149/artifacts/models_mlflow', status='READY', status_message=None, tags={'model': 'xgboost'}, user_id=None, version=2>,\n",
       "  <ModelVersion: aliases=[], creation_timestamp=1685209527883, current_stage='None', description=None, last_updated_timestamp=1685209527883, name='nyc_taxi_regressor', run_id='ed79f054309642198793072a8cf4184f', run_link=None, source='/home/sgrodriguez/Formación/mlops_dtc/02_experiment_tracking/mlruns/1/ed79f054309642198793072a8cf4184f/artifacts/model', status='READY', status_message=None, tags={}, user_id=None, version=4>], name='nyc_taxi_regressor', tags={}>]"
      ]
     },
     "execution_count": 12,
     "metadata": {},
     "output_type": "execute_result"
    }
   ],
   "source": [
    "client.search_registered_models()"
   ]
  },
  {
   "cell_type": "code",
   "execution_count": 15,
   "id": "4ff99914",
   "metadata": {},
   "outputs": [
    {
     "name": "stdout",
     "output_type": "stream",
     "text": [
      "version: 1, stage: Staging\n",
      "version: 2, stage: Production\n",
      "version: 4, stage: None\n"
     ]
    }
   ],
   "source": [
    "model_name = \"nyc_taxi_regressor\"\n",
    "\n",
    "latest_versions = client.get_latest_versions(name=model_name)\n",
    "\n",
    "for version in latest_versions:\n",
    "    print(f\"version: {version.version}, stage: {version.current_stage}\")"
   ]
  },
  {
   "cell_type": "markdown",
   "id": "cefd327c",
   "metadata": {},
   "source": [
    "Let's transition version `4` to `Staging`."
   ]
  },
  {
   "cell_type": "code",
   "execution_count": 16,
   "id": "817d5a87",
   "metadata": {},
   "outputs": [
    {
     "data": {
      "text/plain": [
       "<ModelVersion: aliases=[], creation_timestamp=1685209527883, current_stage='Staging', description=None, last_updated_timestamp=1685209957756, name='nyc_taxi_regressor', run_id='ed79f054309642198793072a8cf4184f', run_link=None, source='/home/sgrodriguez/Formación/mlops_dtc/02_experiment_tracking/mlruns/1/ed79f054309642198793072a8cf4184f/artifacts/model', status='READY', status_message=None, tags={}, user_id=None, version=4>"
      ]
     },
     "execution_count": 16,
     "metadata": {},
     "output_type": "execute_result"
    }
   ],
   "source": [
    "model_version = 4\n",
    "new_stage = \"Staging\"\n",
    "client.transition_model_version_stage(\n",
    "    name=model_name,\n",
    "    version=model_version,\n",
    "    stage=new_stage,\n",
    "    archive_existing_versions=False\n",
    ")"
   ]
  },
  {
   "cell_type": "markdown",
   "id": "9838e42b",
   "metadata": {},
   "source": [
    "We can also make annotations to our model version, such as a description."
   ]
  },
  {
   "cell_type": "code",
   "execution_count": 17,
   "id": "bd90eb37",
   "metadata": {},
   "outputs": [
    {
     "data": {
      "text/plain": [
       "<ModelVersion: aliases=[], creation_timestamp=1685209527883, current_stage='Staging', description='The model version 4 was transitioned to Staging on 2023-05-28', last_updated_timestamp=1685265511402, name='nyc_taxi_regressor', run_id='ed79f054309642198793072a8cf4184f', run_link=None, source='/home/sgrodriguez/Formación/mlops_dtc/02_experiment_tracking/mlruns/1/ed79f054309642198793072a8cf4184f/artifacts/model', status='READY', status_message=None, tags={}, user_id=None, version=4>"
      ]
     },
     "execution_count": 17,
     "metadata": {},
     "output_type": "execute_result"
    }
   ],
   "source": [
    "from datetime import datetime\n",
    "\n",
    "date = datetime.today().date()\n",
    "client.update_model_version(\n",
    "    name=model_name,\n",
    "    version=model_version,\n",
    "    description=f\"The model version {model_version} was transitioned to {new_stage} on {date}\"\n",
    ")"
   ]
  },
  {
   "cell_type": "markdown",
   "id": "4a59a4eb",
   "metadata": {},
   "source": [
    "## Comparing versions and selecting the new Production model\n",
    "\n",
    "In the last section, we will retrieve models registered in the model registry and compare their performance on an unseen test set. The idea is to simulate the scenario in which a deployment engineer has to interact with the model registry to decide whether to update the model version that is in production or not.\n",
    "\n",
    "These are the steps:\n",
    "1. Load the test dataset, which corresponds to the NYC Green Taxi data from the month of March 2021.\n",
    "2. Download the DictVectorizer that was fitted using the training data and saved to MLflow as an artifact, and load it with pickle.\n",
    "3. Preprocess the test set using the DictVectorizer so we can properly feed the regressors.\n",
    "4. Make predictions on the test set using the model versions that are currently in the \"Staging\" and \"Production\" stages, and compare their performance.\n",
    "5. Based on the results, update the \"Production\" model version accordingly.\n",
    "\n",
    "**Note: the model registry doesn't actually deploy the model to production when you transition a model to the \"Production\" stage, it just assign a label to that model version. You should complement the registry with some CI/CD code that does the actual deployment.**"
   ]
  },
  {
   "cell_type": "code",
   "execution_count": 21,
   "id": "56c42b06",
   "metadata": {},
   "outputs": [],
   "source": [
    "from sklearn.metrics import mean_squared_error\n",
    "import pandas as pd\n",
    "\n",
    "def read_dataframe(filename):\n",
    "    df = pd.read_parquet(filename)\n",
    "    \n",
    "    df[\"duration\"] = df.lpep_dropoff_datetime - df.lpep_pickup_datetime\n",
    "    df.duration = df.duration.apply(lambda td: td.total_seconds() / 60)\n",
    "    \n",
    "    df = df[(df.duration >= 1) & (df.duration <= 60)]\n",
    "    \n",
    "    categorical = [\"PULocationID\", \"DOLocationID\"]\n",
    "    df.loc[:, categorical] = df.loc[:, categorical].astype(str)\n",
    "    \n",
    "    return df\n",
    "\n",
    "def preprocess(df, dv):\n",
    "    df['PU_DO'] = df['PULocationID'] + '_' + df['DOLocationID']\n",
    "    categorical = ['PU_DO']\n",
    "    numerical = ['trip_distance']\n",
    "    train_dicts = df[categorical + numerical].to_dict(orient='records')\n",
    "    return dv.transform(train_dicts)\n",
    "\n",
    "\n",
    "def test_model(name, stage, X_test, y_test):\n",
    "    model = mlflow.pyfunc.load_model(f\"models:/{name}/{stage}\")\n",
    "    y_pred = model.predict(X_test)\n",
    "    return {\"rmse\": mean_squared_error(y_test, y_pred, squared=False)}"
   ]
  },
  {
   "cell_type": "code",
   "execution_count": 22,
   "id": "f7d670b6",
   "metadata": {},
   "outputs": [
    {
     "name": "stdout",
     "output_type": "stream",
     "text": [
      "--2023-05-28 11:30:00--  https://d37ci6vzurychx.cloudfront.net/trip-data/green_tripdata_2021-03.parquet\n",
      "Resolviendo d37ci6vzurychx.cloudfront.net (d37ci6vzurychx.cloudfront.net)... 18.67.246.167, 18.67.246.47, 18.67.246.186, ...\n",
      "Conectando con d37ci6vzurychx.cloudfront.net (d37ci6vzurychx.cloudfront.net)[18.67.246.167]:443... conectado.\n",
      "Petición HTTP enviada, esperando respuesta... 304 Not Modified\n",
      "Fichero “./data/green_tripdata_2021-03.parquet” no modificado en el servidor. Omitiendo la descarga.\n",
      "\n"
     ]
    }
   ],
   "source": [
    "!wget -NP ./data https://d37ci6vzurychx.cloudfront.net/trip-data/green_tripdata_2021-03.parquet"
   ]
  },
  {
   "cell_type": "code",
   "execution_count": 24,
   "id": "6f285cf9",
   "metadata": {},
   "outputs": [],
   "source": [
    "df = read_dataframe(\"data/green_tripdata_2021-03.parquet\")"
   ]
  },
  {
   "cell_type": "code",
   "execution_count": 26,
   "id": "3098d5ba",
   "metadata": {},
   "outputs": [
    {
     "name": "stderr",
     "output_type": "stream",
     "text": [
      "/tmp/ipykernel_46562/908814849.py:3: FutureWarning: ``mlflow.tracking.client.MlflowClient.download_artifacts`` is deprecated since 2.0. This method will be removed in a future release. Use ``mlflow.artifacts.download_artifacts`` instead.\n",
      "  client.download_artifacts(run_id=run_id, path=\"preprocessor\", dst_path=\".\")\n"
     ]
    },
    {
     "data": {
      "text/plain": [
       "'/home/sgrodriguez/Formación/mlops_dtc/02_experiment_tracking/preprocessor'"
      ]
     },
     "execution_count": 26,
     "metadata": {},
     "output_type": "execute_result"
    }
   ],
   "source": [
    "run_id = \"2dba47c1349d4939af149471c6129149\"\n",
    "\n",
    "client.download_artifacts(run_id=run_id, path=\"preprocessor\", dst_path=\".\")"
   ]
  },
  {
   "cell_type": "code",
   "execution_count": 27,
   "id": "1a7bfe17",
   "metadata": {},
   "outputs": [],
   "source": [
    "import pickle\n",
    "\n",
    "with open(\"preprocessor/preprocessor.b\", \"rb\") as f_in:\n",
    "    dv = pickle.load(f_in)"
   ]
  },
  {
   "cell_type": "code",
   "execution_count": 28,
   "id": "4c1ba2ae",
   "metadata": {},
   "outputs": [],
   "source": [
    "X_test = preprocess(df, dv)"
   ]
  },
  {
   "cell_type": "code",
   "execution_count": 29,
   "id": "de511d8c",
   "metadata": {},
   "outputs": [],
   "source": [
    "target = \"duration\"\n",
    "y_test = df[target].values"
   ]
  },
  {
   "cell_type": "code",
   "execution_count": 30,
   "id": "ad06e9cf",
   "metadata": {},
   "outputs": [
    {
     "name": "stderr",
     "output_type": "stream",
     "text": [
      "2023/05/28 11:39:03 WARNING mlflow.pyfunc: Detected one or more mismatches between the model's dependencies and the current Python environment:\n",
      " - mlflow (current: 2.3.2, required: mlflow==2.3)\n",
      "To fix the mismatches, call `mlflow.pyfunc.get_model_dependencies(model_uri)` to fetch the model's environment and install dependencies using the resulting environment file.\n"
     ]
    },
    {
     "name": "stdout",
     "output_type": "stream",
     "text": [
      "[11:39:03] WARNING: ../src/objective/regression_obj.cu:213: reg:linear is now deprecated in favor of reg:squarederror.\n",
      "CPU times: user 2.23 s, sys: 5.17 ms, total: 2.23 s\n",
      "Wall time: 403 ms\n"
     ]
    },
    {
     "data": {
      "text/plain": [
       "{'rmse': 6.770245690879554}"
      ]
     },
     "execution_count": 30,
     "metadata": {},
     "output_type": "execute_result"
    }
   ],
   "source": [
    "%time test_model(name=model_name, stage=\"Production\", X_test=X_test, y_test=y_test)"
   ]
  },
  {
   "cell_type": "code",
   "execution_count": 32,
   "id": "4c74d960",
   "metadata": {},
   "outputs": [
    {
     "name": "stderr",
     "output_type": "stream",
     "text": [
      "2023/05/28 11:45:25 WARNING mlflow.pyfunc: Detected one or more mismatches between the model's dependencies and the current Python environment:\n",
      " - mlflow (current: 2.3.2, required: mlflow==2.3)\n",
      "To fix the mismatches, call `mlflow.pyfunc.get_model_dependencies(model_uri)` to fetch the model's environment and install dependencies using the resulting environment file.\n"
     ]
    },
    {
     "name": "stdout",
     "output_type": "stream",
     "text": [
      "CPU times: user 107 ms, sys: 7.83 ms, total: 115 ms\n",
      "Wall time: 138 ms\n"
     ]
    },
    {
     "data": {
      "text/plain": [
       "{'rmse': 6.773844188699355}"
      ]
     },
     "execution_count": 32,
     "metadata": {},
     "output_type": "execute_result"
    }
   ],
   "source": [
    "%time test_model(name=model_name, stage=\"Staging\", X_test=X_test, y_test=y_test)"
   ]
  },
  {
   "cell_type": "markdown",
   "id": "4519f6ab",
   "metadata": {},
   "source": [
    "Once we've got our results, we can decide which model to keep and use `transition_model_version_stage()` to transition the chosen model to production while archiving any previous production models."
   ]
  },
  {
   "cell_type": "code",
   "execution_count": 33,
   "id": "140ba7a4",
   "metadata": {},
   "outputs": [
    {
     "data": {
      "text/plain": [
       "<ModelVersion: aliases=[], creation_timestamp=1685183025601, current_stage='Production', description='', last_updated_timestamp=1685267197488, name='nyc_taxi_regressor', run_id='87d36b30e49d4f0fbc54d4a5e4660e27', run_link='', source='/home/sgrodriguez/Formación/mlops_dtc/02_experiment_tracking/mlruns/1/87d36b30e49d4f0fbc54d4a5e4660e27/artifacts/model', status='READY', status_message=None, tags={'model': 'gradientboostingregressor'}, user_id=None, version=1>"
      ]
     },
     "execution_count": 33,
     "metadata": {},
     "output_type": "execute_result"
    }
   ],
   "source": [
    "client.transition_model_version_stage(\n",
    "    name=model_name,\n",
    "    version=1,\n",
    "    stage=\"Production\",\n",
    "    archive_existing_versions=True\n",
    ")"
   ]
  },
  {
   "cell_type": "code",
   "execution_count": null,
   "id": "3b0a1b59",
   "metadata": {},
   "outputs": [],
   "source": []
  }
 ],
 "metadata": {
  "kernelspec": {
   "display_name": "Python 3 (ipykernel)",
   "language": "python",
   "name": "python3"
  },
  "language_info": {
   "codemirror_mode": {
    "name": "ipython",
    "version": 3
   },
   "file_extension": ".py",
   "mimetype": "text/x-python",
   "name": "python",
   "nbconvert_exporter": "python",
   "pygments_lexer": "ipython3",
   "version": "3.9.16"
  },
  "toc": {
   "base_numbering": 1,
   "nav_menu": {},
   "number_sections": true,
   "sideBar": true,
   "skip_h1_title": false,
   "title_cell": "Table of Contents",
   "title_sidebar": "Contents",
   "toc_cell": false,
   "toc_position": {},
   "toc_section_display": true,
   "toc_window_display": false
  }
 },
 "nbformat": 4,
 "nbformat_minor": 5
}
